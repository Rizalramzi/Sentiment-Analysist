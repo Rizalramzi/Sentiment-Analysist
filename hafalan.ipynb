{
 "cells": [
  {
   "cell_type": "code",
   "execution_count": 2,
   "metadata": {},
   "outputs": [],
   "source": [
    "import pandas as pd\n",
    "import numpy as np\n",
    "import seaborn as sns\n",
    "import matplotlib.pyplot as plt\n",
    "import nltk\n",
    "import Sastrawi\n",
    "import re\n",
    "import os\n",
    "import string\n",
    "from Sastrawi.Stemmer.StemmerFactory import StemmerFactory\n",
    "from Sastrawi.StopWordRemover.StopWordRemoverFactory import StopWordRemoverFactory\n",
    "from nltk.tokenize import word_tokenize"
   ]
  },
  {
   "cell_type": "code",
   "execution_count": 2,
   "metadata": {},
   "outputs": [
    {
     "name": "stdout",
     "output_type": "stream",
     "text": [
      "['Ini', 'adalah', 'contoh', 'kalimat.', 'Tokenisasi', 'dilakukan', 'di', 'sini!']\n"
     ]
    }
   ],
   "source": [
    "# Teks masukan\n",
    "teks = [\"Ini adalah contoh kalimat. Tokenisasi dilakukan di sini!\"]\n",
    "\n",
    "# Tokenisasi dan konversi ke array\n",
    "tokens = list(teks.split())\n",
    "\n",
    "# Output token dalam bentuk array\n",
    "print(tokens)\n"
   ]
  },
  {
   "cell_type": "code",
   "execution_count": 3,
   "metadata": {},
   "outputs": [
    {
     "data": {
      "text/plain": [
       "['Ini',\n",
       " 'adalah',\n",
       " 'contoh',\n",
       " 'kalimat',\n",
       " '.',\n",
       " 'Tokenisasi',\n",
       " 'dilakukan',\n",
       " 'di',\n",
       " 'sini',\n",
       " '!']"
      ]
     },
     "execution_count": 3,
     "metadata": {},
     "output_type": "execute_result"
    }
   ],
   "source": [
    "nltk.word_tokenize(teks)"
   ]
  },
  {
   "cell_type": "code",
   "execution_count": 1,
   "metadata": {},
   "outputs": [],
   "source": [
    "def casefold(comment):\n",
    "    comment = comment.lower()\n",
    "    comment = re.sub(r':', '', comment)\n",
    "    comment = re.sub(r'[0-9]+', '', comment)\n",
    "    comment = re.sub(r'\\b[a-zA-Z]\\b', '', comment)\n",
    "    comment = comment.encode('ascii', 'replace').decode('ascii')\n",
    "    comment = comment.translate(str.maketrans(string.punctuation, ' '*len(string.punctuation)))\n",
    "    comment = comment.split()\n",
    "    comment = ' '.join(comment)\n",
    "    return comment"
   ]
  },
  {
   "cell_type": "code",
   "execution_count": 5,
   "metadata": {},
   "outputs": [],
   "source": [
    "data = \"keren sekali a array :)\""
   ]
  },
  {
   "cell_type": "code",
   "execution_count": 6,
   "metadata": {},
   "outputs": [
    {
     "data": {
      "text/plain": [
       "'keren sekali array'"
      ]
     },
     "execution_count": 6,
     "metadata": {},
     "output_type": "execute_result"
    }
   ],
   "source": [
    "casefold(data)"
   ]
  },
  {
   "cell_type": "code",
   "execution_count": 2,
   "metadata": {},
   "outputs": [],
   "source": [
    "def filtering(comment):\n",
    "    factory = StopWordRemoverFactory()\n",
    "    stopword = factory.create_stop_word_remover()\n",
    "    return stopword.remove(' '.join(comment)).split()"
   ]
  },
  {
   "cell_type": "code",
   "execution_count": 3,
   "metadata": {},
   "outputs": [],
   "source": [
    "def stemming(text):\n",
    "    factory = StemmerFactory()\n",
    "    stemmer = factory.create_stemmer()\n",
    "    return ' '.join([stemmer.stem(comment) for comment in text])"
   ]
  },
  {
   "cell_type": "code",
   "execution_count": 4,
   "metadata": {},
   "outputs": [],
   "source": [
    "def train_test_split(x, y, test_size=0.2, random_state=None):\n",
    "    if random_state is not None:\n",
    "        np.random.seed(random_state)\n",
    "    indices = np.random.permutation(len(x))\n",
    "    split_index = int(len(x) * (1 - test_size))\n",
    "    return x[indices[:split_index]], x[indices[split_index:]], y.iloc[indices[:split_index]], y.iloc[indices[split_index:]]"
   ]
  },
  {
   "cell_type": "code",
   "execution_count": 6,
   "metadata": {},
   "outputs": [],
   "source": [
    "def train_test_split(x, y, test_size=0.2, random_state=None):\n",
    "    if random_state is not None:\n",
    "        np.random.seed(random_state)\n",
    "    indices = np.random.permutation(len(x))\n",
    "    split_index = int(len(x) * (1-test_size))\n",
    "    return x[indices[:split_index]], x[indices[split_index:]], y.iloc[indices[:split_index]], y.iloc[indices[split_index:]]"
   ]
  },
  {
   "cell_type": "code",
   "execution_count": null,
   "metadata": {},
   "outputs": [],
   "source": [
    "def train_test_split(x, y, test_size=0.2, random_state=None):\n",
    "    if random_state is not None:\n",
    "        np.random.seed(random_state)\n",
    "    indices = np.random.permutation(len(x))\n",
    "    split_index = int(len(x) * (1-test_size))\n",
    "    return x[indices[:split_index]], x[indices[split_index:]],y.iloc[indices[:split_index]],y.iloc[indices[split_index:]]"
   ]
  },
  {
   "cell_type": "code",
   "execution_count": 5,
   "metadata": {},
   "outputs": [],
   "source": [
    "def confusion_matrix(y_true, y_pred):\n",
    "    classes = np.unique(np.concatenate(y_true, y_pred))\n",
    "    matrix = np.zeros((len(classes), len(classes)), dtype=int)\n",
    "    for i in range(len(y_true)):\n",
    "        matrix[y_true[i]][y_pred[i]] +=1\n",
    "    return matrix"
   ]
  },
  {
   "cell_type": "code",
   "execution_count": null,
   "metadata": {},
   "outputs": [],
   "source": [
    "def preprocessing(text):\n",
    "    text = casefold(text)\n",
    "    text = word_tokenize(text)\n",
    "    text = filtering(text)\n",
    "    text = stemming(text)"
   ]
  },
  {
   "cell_type": "code",
   "execution_count": null,
   "metadata": {},
   "outputs": [],
   "source": [
    "def train_test_split(x, y, tes)"
   ]
  }
 ],
 "metadata": {
  "kernelspec": {
   "display_name": "Python 3",
   "language": "python",
   "name": "python3"
  },
  "language_info": {
   "codemirror_mode": {
    "name": "ipython",
    "version": 3
   },
   "file_extension": ".py",
   "mimetype": "text/x-python",
   "name": "python",
   "nbconvert_exporter": "python",
   "pygments_lexer": "ipython3",
   "version": "3.10.11"
  }
 },
 "nbformat": 4,
 "nbformat_minor": 2
}
