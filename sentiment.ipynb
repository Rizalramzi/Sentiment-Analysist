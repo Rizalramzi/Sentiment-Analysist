{
 "cells": [
  {
   "cell_type": "code",
   "execution_count": 1,
   "metadata": {},
   "outputs": [],
   "source": [
    "import pandas as pd\n",
    "import numpy as np\n",
    "import seaborn as sns\n",
    "import matplotlib.pyplot as plt\n",
    "import nltk\n",
    "import re\n",
    "import string\n",
    "import Sastrawi\n",
    "from nltk.tokenize import word_tokenize\n",
    "from Sastrawi.StopWordRemover.StopWordRemoverFactory import StopWordRemoverFactory\n",
    "from Sastrawi.Stemmer.StemmerFactory import StemmerFactory"
   ]
  },
  {
   "cell_type": "code",
   "execution_count": 2,
   "metadata": {},
   "outputs": [],
   "source": [
    "data = pd.read_csv('Twitter_emotion_Dataset.csv')"
   ]
  },
  {
   "cell_type": "code",
   "execution_count": 3,
   "metadata": {},
   "outputs": [
    {
     "data": {
      "text/html": [
       "<div>\n",
       "<style scoped>\n",
       "    .dataframe tbody tr th:only-of-type {\n",
       "        vertical-align: middle;\n",
       "    }\n",
       "\n",
       "    .dataframe tbody tr th {\n",
       "        vertical-align: top;\n",
       "    }\n",
       "\n",
       "    .dataframe thead th {\n",
       "        text-align: right;\n",
       "    }\n",
       "</style>\n",
       "<table border=\"1\" class=\"dataframe\">\n",
       "  <thead>\n",
       "    <tr style=\"text-align: right;\">\n",
       "      <th></th>\n",
       "      <th>label</th>\n",
       "      <th>tweet</th>\n",
       "    </tr>\n",
       "  </thead>\n",
       "  <tbody>\n",
       "    <tr>\n",
       "      <th>0</th>\n",
       "      <td>anger</td>\n",
       "      <td>Soal jln Jatibaru,polisi tdk bs GERTAK gubernu...</td>\n",
       "    </tr>\n",
       "    <tr>\n",
       "      <th>1</th>\n",
       "      <td>anger</td>\n",
       "      <td>Sesama cewe lho (kayaknya), harusnya bisa lebi...</td>\n",
       "    </tr>\n",
       "    <tr>\n",
       "      <th>2</th>\n",
       "      <td>happy</td>\n",
       "      <td>Kepingin gudeg mbarek Bu hj. Amad Foto dari go...</td>\n",
       "    </tr>\n",
       "    <tr>\n",
       "      <th>3</th>\n",
       "      <td>anger</td>\n",
       "      <td>Jln Jatibaru,bagian dari wilayah Tn Abang.Peng...</td>\n",
       "    </tr>\n",
       "    <tr>\n",
       "      <th>4</th>\n",
       "      <td>happy</td>\n",
       "      <td>Sharing pengalaman aja, kemarin jam 18.00 bata...</td>\n",
       "    </tr>\n",
       "    <tr>\n",
       "      <th>...</th>\n",
       "      <td>...</td>\n",
       "      <td>...</td>\n",
       "    </tr>\n",
       "    <tr>\n",
       "      <th>4396</th>\n",
       "      <td>love</td>\n",
       "      <td>Tahukah kamu, bahwa saat itu papa memejamkan m...</td>\n",
       "    </tr>\n",
       "    <tr>\n",
       "      <th>4397</th>\n",
       "      <td>fear</td>\n",
       "      <td>Sulitnya menetapkan Calon Wapresnya Jokowi di ...</td>\n",
       "    </tr>\n",
       "    <tr>\n",
       "      <th>4398</th>\n",
       "      <td>anger</td>\n",
       "      <td>5. masa depannya nggak jelas. lha iya, gimana ...</td>\n",
       "    </tr>\n",
       "    <tr>\n",
       "      <th>4399</th>\n",
       "      <td>happy</td>\n",
       "      <td>[USERNAME] dulu beneran ada mahasiswa Teknik U...</td>\n",
       "    </tr>\n",
       "    <tr>\n",
       "      <th>4400</th>\n",
       "      <td>sadness</td>\n",
       "      <td>Ya Allah, hanya Engkau yang mengetahui rasa sa...</td>\n",
       "    </tr>\n",
       "  </tbody>\n",
       "</table>\n",
       "<p>4401 rows × 2 columns</p>\n",
       "</div>"
      ],
      "text/plain": [
       "        label                                              tweet\n",
       "0       anger  Soal jln Jatibaru,polisi tdk bs GERTAK gubernu...\n",
       "1       anger  Sesama cewe lho (kayaknya), harusnya bisa lebi...\n",
       "2       happy  Kepingin gudeg mbarek Bu hj. Amad Foto dari go...\n",
       "3       anger  Jln Jatibaru,bagian dari wilayah Tn Abang.Peng...\n",
       "4       happy  Sharing pengalaman aja, kemarin jam 18.00 bata...\n",
       "...       ...                                                ...\n",
       "4396     love  Tahukah kamu, bahwa saat itu papa memejamkan m...\n",
       "4397     fear  Sulitnya menetapkan Calon Wapresnya Jokowi di ...\n",
       "4398    anger  5. masa depannya nggak jelas. lha iya, gimana ...\n",
       "4399    happy  [USERNAME] dulu beneran ada mahasiswa Teknik U...\n",
       "4400  sadness  Ya Allah, hanya Engkau yang mengetahui rasa sa...\n",
       "\n",
       "[4401 rows x 2 columns]"
      ]
     },
     "execution_count": 3,
     "metadata": {},
     "output_type": "execute_result"
    }
   ],
   "source": [
    "data"
   ]
  },
  {
   "cell_type": "code",
   "execution_count": 4,
   "metadata": {},
   "outputs": [
    {
     "data": {
      "text/plain": [
       "11"
      ]
     },
     "execution_count": 4,
     "metadata": {},
     "output_type": "execute_result"
    }
   ],
   "source": [
    "data.duplicated().sum()"
   ]
  },
  {
   "cell_type": "code",
   "execution_count": 5,
   "metadata": {},
   "outputs": [
    {
     "data": {
      "text/html": [
       "<div>\n",
       "<style scoped>\n",
       "    .dataframe tbody tr th:only-of-type {\n",
       "        vertical-align: middle;\n",
       "    }\n",
       "\n",
       "    .dataframe tbody tr th {\n",
       "        vertical-align: top;\n",
       "    }\n",
       "\n",
       "    .dataframe thead th {\n",
       "        text-align: right;\n",
       "    }\n",
       "</style>\n",
       "<table border=\"1\" class=\"dataframe\">\n",
       "  <thead>\n",
       "    <tr style=\"text-align: right;\">\n",
       "      <th></th>\n",
       "      <th>label</th>\n",
       "      <th>tweet</th>\n",
       "    </tr>\n",
       "  </thead>\n",
       "  <tbody>\n",
       "    <tr>\n",
       "      <th>0</th>\n",
       "      <td>anger</td>\n",
       "      <td>Soal jln Jatibaru,polisi tdk bs GERTAK gubernu...</td>\n",
       "    </tr>\n",
       "    <tr>\n",
       "      <th>1</th>\n",
       "      <td>anger</td>\n",
       "      <td>Sesama cewe lho (kayaknya), harusnya bisa lebi...</td>\n",
       "    </tr>\n",
       "    <tr>\n",
       "      <th>2</th>\n",
       "      <td>happy</td>\n",
       "      <td>Kepingin gudeg mbarek Bu hj. Amad Foto dari go...</td>\n",
       "    </tr>\n",
       "    <tr>\n",
       "      <th>3</th>\n",
       "      <td>anger</td>\n",
       "      <td>Jln Jatibaru,bagian dari wilayah Tn Abang.Peng...</td>\n",
       "    </tr>\n",
       "    <tr>\n",
       "      <th>4</th>\n",
       "      <td>happy</td>\n",
       "      <td>Sharing pengalaman aja, kemarin jam 18.00 bata...</td>\n",
       "    </tr>\n",
       "    <tr>\n",
       "      <th>...</th>\n",
       "      <td>...</td>\n",
       "      <td>...</td>\n",
       "    </tr>\n",
       "    <tr>\n",
       "      <th>4396</th>\n",
       "      <td>love</td>\n",
       "      <td>Tahukah kamu, bahwa saat itu papa memejamkan m...</td>\n",
       "    </tr>\n",
       "    <tr>\n",
       "      <th>4397</th>\n",
       "      <td>fear</td>\n",
       "      <td>Sulitnya menetapkan Calon Wapresnya Jokowi di ...</td>\n",
       "    </tr>\n",
       "    <tr>\n",
       "      <th>4398</th>\n",
       "      <td>anger</td>\n",
       "      <td>5. masa depannya nggak jelas. lha iya, gimana ...</td>\n",
       "    </tr>\n",
       "    <tr>\n",
       "      <th>4399</th>\n",
       "      <td>happy</td>\n",
       "      <td>[USERNAME] dulu beneran ada mahasiswa Teknik U...</td>\n",
       "    </tr>\n",
       "    <tr>\n",
       "      <th>4400</th>\n",
       "      <td>sadness</td>\n",
       "      <td>Ya Allah, hanya Engkau yang mengetahui rasa sa...</td>\n",
       "    </tr>\n",
       "  </tbody>\n",
       "</table>\n",
       "<p>4390 rows × 2 columns</p>\n",
       "</div>"
      ],
      "text/plain": [
       "        label                                              tweet\n",
       "0       anger  Soal jln Jatibaru,polisi tdk bs GERTAK gubernu...\n",
       "1       anger  Sesama cewe lho (kayaknya), harusnya bisa lebi...\n",
       "2       happy  Kepingin gudeg mbarek Bu hj. Amad Foto dari go...\n",
       "3       anger  Jln Jatibaru,bagian dari wilayah Tn Abang.Peng...\n",
       "4       happy  Sharing pengalaman aja, kemarin jam 18.00 bata...\n",
       "...       ...                                                ...\n",
       "4396     love  Tahukah kamu, bahwa saat itu papa memejamkan m...\n",
       "4397     fear  Sulitnya menetapkan Calon Wapresnya Jokowi di ...\n",
       "4398    anger  5. masa depannya nggak jelas. lha iya, gimana ...\n",
       "4399    happy  [USERNAME] dulu beneran ada mahasiswa Teknik U...\n",
       "4400  sadness  Ya Allah, hanya Engkau yang mengetahui rasa sa...\n",
       "\n",
       "[4390 rows x 2 columns]"
      ]
     },
     "execution_count": 5,
     "metadata": {},
     "output_type": "execute_result"
    }
   ],
   "source": [
    "data.drop_duplicates()"
   ]
  },
  {
   "cell_type": "code",
   "execution_count": 6,
   "metadata": {},
   "outputs": [],
   "source": [
    "data['tweet'] = data['tweet'].apply(lambda tweet: ' '.join(word for word in tweet.split() if not word.startswith('[USERNAME]')))\n",
    "data['tweet'] = data['tweet'].apply(lambda tweet: ' '.join(word for word in tweet.split() if not word.startswith('#')))\n",
    "data['tweet'] = data['tweet'].apply(lambda tweet: ' '.join(word for word in tweet.split() if not word.startswith('[LINK]')))"
   ]
  },
  {
   "cell_type": "code",
   "execution_count": 7,
   "metadata": {},
   "outputs": [
    {
     "data": {
      "text/html": [
       "<div>\n",
       "<style scoped>\n",
       "    .dataframe tbody tr th:only-of-type {\n",
       "        vertical-align: middle;\n",
       "    }\n",
       "\n",
       "    .dataframe tbody tr th {\n",
       "        vertical-align: top;\n",
       "    }\n",
       "\n",
       "    .dataframe thead th {\n",
       "        text-align: right;\n",
       "    }\n",
       "</style>\n",
       "<table border=\"1\" class=\"dataframe\">\n",
       "  <thead>\n",
       "    <tr style=\"text-align: right;\">\n",
       "      <th></th>\n",
       "      <th>label</th>\n",
       "      <th>tweet</th>\n",
       "    </tr>\n",
       "  </thead>\n",
       "  <tbody>\n",
       "    <tr>\n",
       "      <th>0</th>\n",
       "      <td>anger</td>\n",
       "      <td>Soal jln Jatibaru,polisi tdk bs GERTAK gubernu...</td>\n",
       "    </tr>\n",
       "    <tr>\n",
       "      <th>1</th>\n",
       "      <td>anger</td>\n",
       "      <td>Sesama cewe lho (kayaknya), harusnya bisa lebi...</td>\n",
       "    </tr>\n",
       "    <tr>\n",
       "      <th>2</th>\n",
       "      <td>happy</td>\n",
       "      <td>Kepingin gudeg mbarek Bu hj. Amad Foto dari go...</td>\n",
       "    </tr>\n",
       "    <tr>\n",
       "      <th>3</th>\n",
       "      <td>anger</td>\n",
       "      <td>Jln Jatibaru,bagian dari wilayah Tn Abang.Peng...</td>\n",
       "    </tr>\n",
       "    <tr>\n",
       "      <th>4</th>\n",
       "      <td>happy</td>\n",
       "      <td>Sharing pengalaman aja, kemarin jam 18.00 bata...</td>\n",
       "    </tr>\n",
       "    <tr>\n",
       "      <th>...</th>\n",
       "      <td>...</td>\n",
       "      <td>...</td>\n",
       "    </tr>\n",
       "    <tr>\n",
       "      <th>4396</th>\n",
       "      <td>love</td>\n",
       "      <td>Tahukah kamu, bahwa saat itu papa memejamkan m...</td>\n",
       "    </tr>\n",
       "    <tr>\n",
       "      <th>4397</th>\n",
       "      <td>fear</td>\n",
       "      <td>Sulitnya menetapkan Calon Wapresnya Jokowi di ...</td>\n",
       "    </tr>\n",
       "    <tr>\n",
       "      <th>4398</th>\n",
       "      <td>anger</td>\n",
       "      <td>5. masa depannya nggak jelas. lha iya, gimana ...</td>\n",
       "    </tr>\n",
       "    <tr>\n",
       "      <th>4399</th>\n",
       "      <td>happy</td>\n",
       "      <td>dulu beneran ada mahasiswa Teknik UI nembak pa...</td>\n",
       "    </tr>\n",
       "    <tr>\n",
       "      <th>4400</th>\n",
       "      <td>sadness</td>\n",
       "      <td>Ya Allah, hanya Engkau yang mengetahui rasa sa...</td>\n",
       "    </tr>\n",
       "  </tbody>\n",
       "</table>\n",
       "<p>4401 rows × 2 columns</p>\n",
       "</div>"
      ],
      "text/plain": [
       "        label                                              tweet\n",
       "0       anger  Soal jln Jatibaru,polisi tdk bs GERTAK gubernu...\n",
       "1       anger  Sesama cewe lho (kayaknya), harusnya bisa lebi...\n",
       "2       happy  Kepingin gudeg mbarek Bu hj. Amad Foto dari go...\n",
       "3       anger  Jln Jatibaru,bagian dari wilayah Tn Abang.Peng...\n",
       "4       happy  Sharing pengalaman aja, kemarin jam 18.00 bata...\n",
       "...       ...                                                ...\n",
       "4396     love  Tahukah kamu, bahwa saat itu papa memejamkan m...\n",
       "4397     fear  Sulitnya menetapkan Calon Wapresnya Jokowi di ...\n",
       "4398    anger  5. masa depannya nggak jelas. lha iya, gimana ...\n",
       "4399    happy  dulu beneran ada mahasiswa Teknik UI nembak pa...\n",
       "4400  sadness  Ya Allah, hanya Engkau yang mengetahui rasa sa...\n",
       "\n",
       "[4401 rows x 2 columns]"
      ]
     },
     "execution_count": 7,
     "metadata": {},
     "output_type": "execute_result"
    }
   ],
   "source": [
    "data"
   ]
  },
  {
   "cell_type": "code",
   "execution_count": 8,
   "metadata": {},
   "outputs": [],
   "source": [
    "def casefold(comment):\n",
    "    comment = comment.lower()\n",
    "    comment = re.sub(r':', '', comment)\n",
    "    comment = re.sub(r'[0-9]+', '', comment)\n",
    "    comment = re.sub(r'\\b[a-zA-Z]\\b', '', comment)\n",
    "    comment = comment.encode('ascii', 'replace').decode('ascii')\n",
    "    comment = comment.translate(str.maketrans(string.punctuation, ' '*len(string.punctuation)))\n",
    "    comment = comment.split()\n",
    "    comment = ' '.join(comment)\n",
    "    return comment"
   ]
  },
  {
   "cell_type": "code",
   "execution_count": 9,
   "metadata": {},
   "outputs": [],
   "source": [
    "data['tweet'] = data['tweet'].apply(casefold)"
   ]
  },
  {
   "cell_type": "code",
   "execution_count": 10,
   "metadata": {},
   "outputs": [
    {
     "data": {
      "text/html": [
       "<div>\n",
       "<style scoped>\n",
       "    .dataframe tbody tr th:only-of-type {\n",
       "        vertical-align: middle;\n",
       "    }\n",
       "\n",
       "    .dataframe tbody tr th {\n",
       "        vertical-align: top;\n",
       "    }\n",
       "\n",
       "    .dataframe thead th {\n",
       "        text-align: right;\n",
       "    }\n",
       "</style>\n",
       "<table border=\"1\" class=\"dataframe\">\n",
       "  <thead>\n",
       "    <tr style=\"text-align: right;\">\n",
       "      <th></th>\n",
       "      <th>label</th>\n",
       "      <th>tweet</th>\n",
       "    </tr>\n",
       "  </thead>\n",
       "  <tbody>\n",
       "    <tr>\n",
       "      <th>0</th>\n",
       "      <td>anger</td>\n",
       "      <td>soal jln jatibaru polisi tdk bs gertak gubernu...</td>\n",
       "    </tr>\n",
       "    <tr>\n",
       "      <th>1</th>\n",
       "      <td>anger</td>\n",
       "      <td>sesama cewe lho kayaknya harusnya bisa lebih r...</td>\n",
       "    </tr>\n",
       "    <tr>\n",
       "      <th>2</th>\n",
       "      <td>happy</td>\n",
       "      <td>kepingin gudeg mbarek bu hj amad foto dari goo...</td>\n",
       "    </tr>\n",
       "    <tr>\n",
       "      <th>3</th>\n",
       "      <td>anger</td>\n",
       "      <td>jln jatibaru bagian dari wilayah tn abang peng...</td>\n",
       "    </tr>\n",
       "    <tr>\n",
       "      <th>4</th>\n",
       "      <td>happy</td>\n",
       "      <td>sharing pengalaman aja kemarin jam batalin tik...</td>\n",
       "    </tr>\n",
       "    <tr>\n",
       "      <th>...</th>\n",
       "      <td>...</td>\n",
       "      <td>...</td>\n",
       "    </tr>\n",
       "    <tr>\n",
       "      <th>4396</th>\n",
       "      <td>love</td>\n",
       "      <td>tahukah kamu bahwa saat itu papa memejamkan ma...</td>\n",
       "    </tr>\n",
       "    <tr>\n",
       "      <th>4397</th>\n",
       "      <td>fear</td>\n",
       "      <td>sulitnya menetapkan calon wapresnya jokowi di ...</td>\n",
       "    </tr>\n",
       "    <tr>\n",
       "      <th>4398</th>\n",
       "      <td>anger</td>\n",
       "      <td>masa depannya nggak jelas lha iya gimana mau j...</td>\n",
       "    </tr>\n",
       "    <tr>\n",
       "      <th>4399</th>\n",
       "      <td>happy</td>\n",
       "      <td>dulu beneran ada mahasiswa teknik ui nembak pa...</td>\n",
       "    </tr>\n",
       "    <tr>\n",
       "      <th>4400</th>\n",
       "      <td>sadness</td>\n",
       "      <td>ya allah hanya engkau yang mengetahui rasa sak...</td>\n",
       "    </tr>\n",
       "  </tbody>\n",
       "</table>\n",
       "<p>4401 rows × 2 columns</p>\n",
       "</div>"
      ],
      "text/plain": [
       "        label                                              tweet\n",
       "0       anger  soal jln jatibaru polisi tdk bs gertak gubernu...\n",
       "1       anger  sesama cewe lho kayaknya harusnya bisa lebih r...\n",
       "2       happy  kepingin gudeg mbarek bu hj amad foto dari goo...\n",
       "3       anger  jln jatibaru bagian dari wilayah tn abang peng...\n",
       "4       happy  sharing pengalaman aja kemarin jam batalin tik...\n",
       "...       ...                                                ...\n",
       "4396     love  tahukah kamu bahwa saat itu papa memejamkan ma...\n",
       "4397     fear  sulitnya menetapkan calon wapresnya jokowi di ...\n",
       "4398    anger  masa depannya nggak jelas lha iya gimana mau j...\n",
       "4399    happy  dulu beneran ada mahasiswa teknik ui nembak pa...\n",
       "4400  sadness  ya allah hanya engkau yang mengetahui rasa sak...\n",
       "\n",
       "[4401 rows x 2 columns]"
      ]
     },
     "execution_count": 10,
     "metadata": {},
     "output_type": "execute_result"
    }
   ],
   "source": [
    "data"
   ]
  },
  {
   "cell_type": "code",
   "execution_count": 11,
   "metadata": {},
   "outputs": [],
   "source": [
    "data['tweet'] = data['tweet'].apply(word_tokenize)"
   ]
  },
  {
   "cell_type": "code",
   "execution_count": 12,
   "metadata": {},
   "outputs": [
    {
     "data": {
      "text/html": [
       "<div>\n",
       "<style scoped>\n",
       "    .dataframe tbody tr th:only-of-type {\n",
       "        vertical-align: middle;\n",
       "    }\n",
       "\n",
       "    .dataframe tbody tr th {\n",
       "        vertical-align: top;\n",
       "    }\n",
       "\n",
       "    .dataframe thead th {\n",
       "        text-align: right;\n",
       "    }\n",
       "</style>\n",
       "<table border=\"1\" class=\"dataframe\">\n",
       "  <thead>\n",
       "    <tr style=\"text-align: right;\">\n",
       "      <th></th>\n",
       "      <th>label</th>\n",
       "      <th>tweet</th>\n",
       "    </tr>\n",
       "  </thead>\n",
       "  <tbody>\n",
       "    <tr>\n",
       "      <th>0</th>\n",
       "      <td>anger</td>\n",
       "      <td>[soal, jln, jatibaru, polisi, tdk, bs, gertak,...</td>\n",
       "    </tr>\n",
       "    <tr>\n",
       "      <th>1</th>\n",
       "      <td>anger</td>\n",
       "      <td>[sesama, cewe, lho, kayaknya, harusnya, bisa, ...</td>\n",
       "    </tr>\n",
       "    <tr>\n",
       "      <th>2</th>\n",
       "      <td>happy</td>\n",
       "      <td>[kepingin, gudeg, mbarek, bu, hj, amad, foto, ...</td>\n",
       "    </tr>\n",
       "    <tr>\n",
       "      <th>3</th>\n",
       "      <td>anger</td>\n",
       "      <td>[jln, jatibaru, bagian, dari, wilayah, tn, aba...</td>\n",
       "    </tr>\n",
       "    <tr>\n",
       "      <th>4</th>\n",
       "      <td>happy</td>\n",
       "      <td>[sharing, pengalaman, aja, kemarin, jam, batal...</td>\n",
       "    </tr>\n",
       "    <tr>\n",
       "      <th>...</th>\n",
       "      <td>...</td>\n",
       "      <td>...</td>\n",
       "    </tr>\n",
       "    <tr>\n",
       "      <th>4396</th>\n",
       "      <td>love</td>\n",
       "      <td>[tahukah, kamu, bahwa, saat, itu, papa, memeja...</td>\n",
       "    </tr>\n",
       "    <tr>\n",
       "      <th>4397</th>\n",
       "      <td>fear</td>\n",
       "      <td>[sulitnya, menetapkan, calon, wapresnya, jokow...</td>\n",
       "    </tr>\n",
       "    <tr>\n",
       "      <th>4398</th>\n",
       "      <td>anger</td>\n",
       "      <td>[masa, depannya, nggak, jelas, lha, iya, giman...</td>\n",
       "    </tr>\n",
       "    <tr>\n",
       "      <th>4399</th>\n",
       "      <td>happy</td>\n",
       "      <td>[dulu, beneran, ada, mahasiswa, teknik, ui, ne...</td>\n",
       "    </tr>\n",
       "    <tr>\n",
       "      <th>4400</th>\n",
       "      <td>sadness</td>\n",
       "      <td>[ya, allah, hanya, engkau, yang, mengetahui, r...</td>\n",
       "    </tr>\n",
       "  </tbody>\n",
       "</table>\n",
       "<p>4401 rows × 2 columns</p>\n",
       "</div>"
      ],
      "text/plain": [
       "        label                                              tweet\n",
       "0       anger  [soal, jln, jatibaru, polisi, tdk, bs, gertak,...\n",
       "1       anger  [sesama, cewe, lho, kayaknya, harusnya, bisa, ...\n",
       "2       happy  [kepingin, gudeg, mbarek, bu, hj, amad, foto, ...\n",
       "3       anger  [jln, jatibaru, bagian, dari, wilayah, tn, aba...\n",
       "4       happy  [sharing, pengalaman, aja, kemarin, jam, batal...\n",
       "...       ...                                                ...\n",
       "4396     love  [tahukah, kamu, bahwa, saat, itu, papa, memeja...\n",
       "4397     fear  [sulitnya, menetapkan, calon, wapresnya, jokow...\n",
       "4398    anger  [masa, depannya, nggak, jelas, lha, iya, giman...\n",
       "4399    happy  [dulu, beneran, ada, mahasiswa, teknik, ui, ne...\n",
       "4400  sadness  [ya, allah, hanya, engkau, yang, mengetahui, r...\n",
       "\n",
       "[4401 rows x 2 columns]"
      ]
     },
     "execution_count": 12,
     "metadata": {},
     "output_type": "execute_result"
    }
   ],
   "source": [
    "data"
   ]
  },
  {
   "cell_type": "code",
   "execution_count": 13,
   "metadata": {},
   "outputs": [],
   "source": [
    "def filtering(comment):\n",
    "    factory = StopWordRemoverFactory()\n",
    "    stopword = factory.create_stop_word_remover()\n",
    "    return stopword.remove(' '.join(comment)).split()"
   ]
  },
  {
   "cell_type": "code",
   "execution_count": 14,
   "metadata": {},
   "outputs": [],
   "source": [
    "data['tweet'] = data['tweet'].apply(filtering)"
   ]
  },
  {
   "cell_type": "code",
   "execution_count": 15,
   "metadata": {},
   "outputs": [
    {
     "data": {
      "text/html": [
       "<div>\n",
       "<style scoped>\n",
       "    .dataframe tbody tr th:only-of-type {\n",
       "        vertical-align: middle;\n",
       "    }\n",
       "\n",
       "    .dataframe tbody tr th {\n",
       "        vertical-align: top;\n",
       "    }\n",
       "\n",
       "    .dataframe thead th {\n",
       "        text-align: right;\n",
       "    }\n",
       "</style>\n",
       "<table border=\"1\" class=\"dataframe\">\n",
       "  <thead>\n",
       "    <tr style=\"text-align: right;\">\n",
       "      <th></th>\n",
       "      <th>label</th>\n",
       "      <th>tweet</th>\n",
       "    </tr>\n",
       "  </thead>\n",
       "  <tbody>\n",
       "    <tr>\n",
       "      <th>0</th>\n",
       "      <td>anger</td>\n",
       "      <td>[soal, jln, jatibaru, polisi, tdk, bs, gertak,...</td>\n",
       "    </tr>\n",
       "    <tr>\n",
       "      <th>1</th>\n",
       "      <td>anger</td>\n",
       "      <td>[sesama, cewe, lho, kayaknya, harusnya, lebih,...</td>\n",
       "    </tr>\n",
       "    <tr>\n",
       "      <th>2</th>\n",
       "      <td>happy</td>\n",
       "      <td>[kepingin, gudeg, mbarek, bu, hj, amad, foto, ...</td>\n",
       "    </tr>\n",
       "    <tr>\n",
       "      <th>3</th>\n",
       "      <td>anger</td>\n",
       "      <td>[jln, jatibaru, bagian, wilayah, tn, abang, pe...</td>\n",
       "    </tr>\n",
       "    <tr>\n",
       "      <th>4</th>\n",
       "      <td>happy</td>\n",
       "      <td>[sharing, pengalaman, aja, kemarin, jam, batal...</td>\n",
       "    </tr>\n",
       "    <tr>\n",
       "      <th>...</th>\n",
       "      <td>...</td>\n",
       "      <td>...</td>\n",
       "    </tr>\n",
       "    <tr>\n",
       "      <th>4396</th>\n",
       "      <td>love</td>\n",
       "      <td>[tahukah, kamu, saat, papa, memejamkan, matany...</td>\n",
       "    </tr>\n",
       "    <tr>\n",
       "      <th>4397</th>\n",
       "      <td>fear</td>\n",
       "      <td>[sulitnya, menetapkan, calon, wapresnya, jokow...</td>\n",
       "    </tr>\n",
       "    <tr>\n",
       "      <th>4398</th>\n",
       "      <td>anger</td>\n",
       "      <td>[masa, depannya, jelas, lha, iya, gimana, mau,...</td>\n",
       "    </tr>\n",
       "    <tr>\n",
       "      <th>4399</th>\n",
       "      <td>happy</td>\n",
       "      <td>[dulu, beneran, mahasiswa, teknik, ui, nembak,...</td>\n",
       "    </tr>\n",
       "    <tr>\n",
       "      <th>4400</th>\n",
       "      <td>sadness</td>\n",
       "      <td>[allah, engkau, mengetahui, rasa, sakit, hati,...</td>\n",
       "    </tr>\n",
       "  </tbody>\n",
       "</table>\n",
       "<p>4401 rows × 2 columns</p>\n",
       "</div>"
      ],
      "text/plain": [
       "        label                                              tweet\n",
       "0       anger  [soal, jln, jatibaru, polisi, tdk, bs, gertak,...\n",
       "1       anger  [sesama, cewe, lho, kayaknya, harusnya, lebih,...\n",
       "2       happy  [kepingin, gudeg, mbarek, bu, hj, amad, foto, ...\n",
       "3       anger  [jln, jatibaru, bagian, wilayah, tn, abang, pe...\n",
       "4       happy  [sharing, pengalaman, aja, kemarin, jam, batal...\n",
       "...       ...                                                ...\n",
       "4396     love  [tahukah, kamu, saat, papa, memejamkan, matany...\n",
       "4397     fear  [sulitnya, menetapkan, calon, wapresnya, jokow...\n",
       "4398    anger  [masa, depannya, jelas, lha, iya, gimana, mau,...\n",
       "4399    happy  [dulu, beneran, mahasiswa, teknik, ui, nembak,...\n",
       "4400  sadness  [allah, engkau, mengetahui, rasa, sakit, hati,...\n",
       "\n",
       "[4401 rows x 2 columns]"
      ]
     },
     "execution_count": 15,
     "metadata": {},
     "output_type": "execute_result"
    }
   ],
   "source": [
    "data"
   ]
  },
  {
   "cell_type": "code",
   "execution_count": 16,
   "metadata": {},
   "outputs": [],
   "source": [
    "def stemming(text):\n",
    "    factory = StemmerFactory()\n",
    "    stemmer = factory.create_stemmer()\n",
    "    return ' '.join([stemmer.stem(comment) for comment in text])"
   ]
  },
  {
   "cell_type": "code",
   "execution_count": 19,
   "metadata": {},
   "outputs": [],
   "source": [
    "data['tweet'] = data['tweet'].apply(stemming)"
   ]
  },
  {
   "cell_type": "code",
   "execution_count": 21,
   "metadata": {},
   "outputs": [],
   "source": [
    "data.to_csv('emotion_after_stemming.csv')"
   ]
  },
  {
   "cell_type": "code",
   "execution_count": 68,
   "metadata": {},
   "outputs": [
    {
     "name": "stdout",
     "output_type": "stream",
     "text": [
      "[[0.35601416 0.18318697 0.20776584 ... 0.         0.         0.        ]\n",
      " [0.         0.         0.         ... 0.         0.         0.        ]\n",
      " [0.         0.         0.         ... 0.         0.         0.        ]\n",
      " ...\n",
      " [0.         0.         0.         ... 0.         0.         0.        ]\n",
      " [0.         0.         0.         ... 0.21815414 0.21815414 0.21815414]\n",
      " [0.         0.         0.         ... 0.         0.         0.        ]]\n"
     ]
    }
   ],
   "source": [
    "import numpy as np\n",
    "\n",
    "class CustomTfidfVectorizer:\n",
    "    def __init__(self):\n",
    "        self.vocab = {}\n",
    "        self.idf = {}\n",
    "        self.doc_count = 0\n",
    "\n",
    "    def fit(self, corpus):\n",
    "        doc_term_freqs = []\n",
    "        for doc in corpus:\n",
    "            term_freqs = {}\n",
    "            for term in doc.split():\n",
    "                if term in term_freqs:\n",
    "                    term_freqs[term] += 1\n",
    "                else:\n",
    "                    term_freqs[term] = 1\n",
    "            doc_term_freqs.append(term_freqs)\n",
    "            self.doc_count += 1\n",
    "\n",
    "            for term in term_freqs:\n",
    "                if term not in self.vocab:\n",
    "                    self.vocab[term] = len(self.vocab)\n",
    "\n",
    "        for term in self.vocab:\n",
    "            doc_freq = sum(1 for doc in doc_term_freqs if term in doc)\n",
    "            self.idf[term] = np.log(self.doc_count / (doc_freq + 1)) + 1  # Add 1 to avoid division by zero\n",
    "\n",
    "    def transform(self, corpus):\n",
    "        rows = []\n",
    "        cols = []\n",
    "        values = []\n",
    "\n",
    "        for i, doc in enumerate(corpus):\n",
    "            term_freqs = {}\n",
    "            for term in doc.split():\n",
    "                if term in term_freqs:\n",
    "                    term_freqs[term] += 1\n",
    "                else:\n",
    "                    term_freqs[term] = 1\n",
    "            doc_length = sum(term_freqs.values())\n",
    "\n",
    "            for term, freq in term_freqs.items():\n",
    "                if term in self.vocab:\n",
    "                    rows.append(i)\n",
    "                    cols.append(self.vocab[term])\n",
    "                    tfidf = (freq / doc_length) * self.idf[term]\n",
    "                    values.append(tfidf)\n",
    "\n",
    "        matrix = np.zeros((len(corpus), len(self.vocab)))\n",
    "        for row, col, value in zip(rows, cols, values):\n",
    "            matrix[row, col] = value\n",
    "        return matrix / np.linalg.norm(matrix, axis=1, keepdims=True)  # Normalize rows to unit Euclidean length\n",
    "\n",
    "# Usage\n",
    "documents = data['tweet']\n",
    "vectorizer = CustomTfidfVectorizer()\n",
    "vectorizer.fit(documents)\n",
    "tfidf_matrix = vectorizer.transform(documents)\n",
    "print(tfidf_matrix)\n"
   ]
  },
  {
   "cell_type": "code",
   "execution_count": 69,
   "metadata": {},
   "outputs": [
    {
     "name": "stdout",
     "output_type": "stream",
     "text": [
      "Rentang nilai dalam tfidf_matrix:\n",
      "Nilai Minimum: 0.0\n",
      "Nilai Maksimum: 0.9455170483220452\n"
     ]
    }
   ],
   "source": [
    "\n",
    "# Melihat rentang nilai dalam tfidf_matrix\n",
    "min_value = np.min(tfidf_matrix)\n",
    "max_value = np.max(tfidf_matrix)\n",
    "\n",
    "print(\"Rentang nilai dalam tfidf_matrix:\")\n",
    "print(\"Nilai Minimum:\", min_value)\n",
    "print(\"Nilai Maksimum:\", max_value)\n"
   ]
  },
  {
   "cell_type": "code",
   "execution_count": 34,
   "metadata": {},
   "outputs": [],
   "source": [
    "import numpy as np\n",
    "\n",
    "def train_test_split(x, y, test_size=0.2, random_state=None):\n",
    "    if random_state is not None:\n",
    "        np.random.seed(random_state)\n",
    "    indices = np.random.permutation(len(x))\n",
    "    split_index = int(len(x) * (1 - test_size))\n",
    "    return x[indices[:split_index]], x[indices[split_index:]], y.iloc[indices[:split_index]], y.iloc[indices[split_index:]] \n"
   ]
  },
  {
   "cell_type": "code",
   "execution_count": 37,
   "metadata": {},
   "outputs": [],
   "source": [
    "from sklearn.preprocessing import LabelEncoder\n",
    "\n",
    "# Assuming data['label'] contains your target labels\n",
    "# Initialize the LabelEncoder\n",
    "label_encoder = LabelEncoder()\n",
    "\n",
    "# Fit and transform the labels\n",
    "data['label'] = label_encoder.fit_transform(data['label'])\n",
    "\n",
    "# You can now use 'encoded_labels' in your analysis\n"
   ]
  },
  {
   "cell_type": "code",
   "execution_count": 38,
   "metadata": {},
   "outputs": [
    {
     "data": {
      "text/plain": [
       "label\n",
       "0    1101\n",
       "2    1017\n",
       "4     997\n",
       "1     649\n",
       "3     637\n",
       "Name: count, dtype: int64"
      ]
     },
     "execution_count": 38,
     "metadata": {},
     "output_type": "execute_result"
    }
   ],
   "source": [
    "data['label'].value_counts()"
   ]
  },
  {
   "cell_type": "code",
   "execution_count": 59,
   "metadata": {},
   "outputs": [
    {
     "name": "stdout",
     "output_type": "stream",
     "text": [
      "(3520, 13408)\n",
      "(881, 13408)\n",
      "3520\n",
      "881\n"
     ]
    }
   ],
   "source": [
    "X_train, X_test, y_train, y_test = train_test_split(tfidf_matrix, data['label'], test_size=0.2, random_state=0)\n",
    "\n",
    "print(X_train.shape)\n",
    "print(X_test.shape)\n",
    "print(len(y_train))\n",
    "print(len(y_test))"
   ]
  },
  {
   "cell_type": "code",
   "execution_count": 36,
   "metadata": {},
   "outputs": [
    {
     "data": {
      "text/plain": [
       "label\n",
       "anger      1101\n",
       "happy      1017\n",
       "sadness     997\n",
       "fear        649\n",
       "love        637\n",
       "Name: count, dtype: int64"
      ]
     },
     "execution_count": 36,
     "metadata": {},
     "output_type": "execute_result"
    }
   ],
   "source": [
    "data['label'].value_counts()"
   ]
  },
  {
   "cell_type": "code",
   "execution_count": 60,
   "metadata": {},
   "outputs": [],
   "source": [
    "import numpy as np\n",
    "\n",
    "class CustomKNNClassifier:\n",
    "    def __init__(self, k):\n",
    "        self.k = k\n",
    "\n",
    "    def fit(self, X_train, y_train):\n",
    "        self.X_train = X_train\n",
    "        self.y_train = y_train\n",
    "\n",
    "    def predict(self, X_test):\n",
    "        y_pred = []\n",
    "        for x in X_test:\n",
    "            distances = np.sqrt(np.sum((self.X_train - x) ** 2, axis=1))  # Euclidean distance\n",
    "            nearest_neighbors = np.argsort(distances)[:self.k]  # Indices of k nearest neighbors\n",
    "            nearest_labels = self.y_train[nearest_neighbors]  # Labels of k nearest neighbors\n",
    "            unique_labels, counts = np.unique(nearest_labels, return_counts=True)\n",
    "            predicted_label = unique_labels[np.argmax(counts)]\n",
    "            y_pred.append(predicted_label)\n",
    "        return np.array(y_pred)"
   ]
  },
  {
   "cell_type": "code",
   "execution_count": 61,
   "metadata": {},
   "outputs": [],
   "source": [
    "y_test.reset_index(drop=True, inplace=True)\n",
    "y_train.reset_index(drop=True, inplace=True)"
   ]
  },
  {
   "cell_type": "code",
   "execution_count": 62,
   "metadata": {},
   "outputs": [
    {
     "data": {
      "text/plain": [
       "array([1, 1, 3, 1, 1, 3, 1, 4, 3, 0, 3, 1, 1, 0, 0, 0, 1, 1, 3, 0, 3, 1,\n",
       "       3, 4, 1, 1, 1, 1, 4, 0, 4, 2, 0, 4, 0, 3, 0, 1, 4, 2, 0, 2, 0, 4,\n",
       "       3, 3, 1, 4, 0, 0, 0, 0, 3, 0, 0, 2, 4, 0, 1, 0, 1, 1, 1, 0, 0, 2,\n",
       "       0, 4, 2, 0, 3, 0, 4, 3, 0, 2, 3, 0, 3, 0, 0, 1, 0, 4, 0, 3, 1, 3,\n",
       "       4, 0, 0, 1, 2, 1, 0, 4, 3, 2, 2, 1, 3, 0, 0, 0, 3, 1, 0, 3, 1, 4,\n",
       "       0, 0, 2, 4, 3, 1, 3, 2, 3, 3, 0, 0, 0, 2, 2, 2, 1, 3, 0, 3, 0, 0,\n",
       "       0, 2, 3, 2, 3, 4, 3, 0, 2, 0, 0, 1, 1, 3, 0, 0, 0, 0, 0, 2, 0, 1,\n",
       "       0, 2, 4, 1, 0, 0, 2, 0, 0, 1, 1, 2, 4, 1, 3, 2, 2, 0, 2, 0, 3, 4,\n",
       "       4, 1, 1, 1, 0, 3, 0, 3, 3, 4, 4, 2, 0, 1, 1, 0, 1, 3, 1, 2, 4, 1,\n",
       "       4, 2, 2, 4, 4, 0, 3, 0, 2, 4, 2, 4, 0, 3, 0, 2, 0, 0, 1, 0, 0, 2,\n",
       "       0, 1, 3, 3, 3, 2, 0, 2, 0, 1, 0, 2, 3, 0, 0, 0, 0, 3, 3, 2, 4, 2,\n",
       "       2, 3, 0, 0, 0, 0, 0, 2, 2, 4, 0, 2, 1, 1, 1, 4, 2, 0, 4, 4, 2, 4,\n",
       "       0, 2, 4, 0, 0, 4, 2, 4, 3, 0, 0, 2, 0, 0, 4, 3, 0, 4, 1, 0, 1, 2,\n",
       "       0, 1, 2, 0, 4, 0, 0, 0, 0, 2, 4, 2, 1, 4, 3, 1, 2, 0, 0, 4, 2, 0,\n",
       "       3, 2, 1, 0, 3, 3, 2, 2, 3, 1, 3, 0, 1, 3, 3, 2, 0, 3, 3, 1, 2, 4,\n",
       "       4, 4, 1, 4, 2, 2, 0, 3, 2, 0, 3, 1, 0, 4, 0, 4, 0, 2, 4, 4, 4, 2,\n",
       "       3, 4, 0, 0, 1, 2, 3, 3, 3, 2, 0, 0, 3, 0, 2, 0, 3, 4, 3, 0, 1, 3,\n",
       "       0, 0, 0, 2, 1, 4, 0, 0, 2, 0, 3, 0, 0, 2, 4, 3, 4, 2, 0, 2, 3, 0,\n",
       "       3, 1, 2, 0, 2, 3, 1, 0, 0, 0, 4, 3, 0, 2, 4, 0, 1, 3, 2, 2, 0, 3,\n",
       "       0, 4, 0, 3, 0, 0, 3, 2, 2, 4, 4, 1, 3, 0, 3, 3, 1, 3, 2, 0, 2, 2,\n",
       "       2, 0, 0, 4, 2, 3, 1, 3, 3, 3, 1, 0, 4, 0, 2, 1, 0, 4, 0, 4, 2, 4,\n",
       "       3, 0, 3, 1, 3, 0, 3, 2, 2, 1, 4, 3, 0, 1, 0, 3, 1, 4, 0, 4, 2, 3,\n",
       "       0, 4, 2, 3, 0, 0, 4, 0, 4, 0, 3, 3, 3, 2, 2, 2, 0, 3, 3, 4, 2, 0,\n",
       "       0, 3, 4, 0, 1, 1, 0, 3, 1, 0, 3, 2, 3, 4, 0, 3, 1, 1, 3, 0, 2, 1,\n",
       "       2, 0, 4, 2, 0, 0, 0, 0, 0, 1, 1, 0, 1, 2, 4, 0, 0, 0, 2, 3, 4, 4,\n",
       "       2, 0, 4, 1, 2, 3, 2, 0, 3, 4, 4, 2, 1, 3, 2, 4, 4, 4, 2, 2, 2, 0,\n",
       "       0, 3, 0, 1, 3, 0, 0, 0, 1, 3, 1, 0, 0, 0, 4, 3, 1, 4, 0, 4, 3, 2,\n",
       "       3, 3, 3, 4, 1, 4, 0, 3, 3, 4, 2, 2, 3, 0, 4, 0, 1, 1, 4, 2, 0, 2,\n",
       "       0, 2, 0, 3, 2, 3, 2, 3, 3, 3, 4, 4, 4, 0, 0, 2, 4, 4, 0, 3, 4, 4,\n",
       "       0, 4, 3, 1, 2, 0, 4, 1, 1, 0, 3, 4, 3, 0, 1, 0, 3, 0, 3, 0, 3, 2,\n",
       "       4, 2, 4, 0, 0, 0, 0, 3, 0, 1, 0, 1, 2, 4, 0, 2, 3, 4, 1, 2, 0, 3,\n",
       "       2, 3, 3, 0, 2, 1, 2, 0, 0, 2, 2, 0, 3, 1, 3, 1, 4, 1, 1, 2, 2, 1,\n",
       "       3, 1, 2, 2, 4, 3, 1, 0, 2, 1, 3, 3, 3, 4, 3, 0, 4, 3, 3, 0, 0, 1,\n",
       "       0, 4, 0, 2, 4, 1, 0, 0, 2, 1, 3, 0, 3, 2, 3, 0, 3, 4, 1, 2, 4, 4,\n",
       "       4, 3, 3, 3, 0, 0, 1, 0, 0, 3, 0, 0, 3, 0, 0, 4, 0, 0, 4, 2, 3, 1,\n",
       "       0, 0, 1, 0, 1, 1, 2, 0, 1, 0, 4, 3, 3, 2, 3, 0, 0, 4, 1, 3, 1, 1,\n",
       "       2, 0, 1, 3, 0, 3, 4, 0, 1, 0, 3, 0, 3, 0, 0, 0, 0, 0, 0, 4, 4, 1,\n",
       "       2, 2, 0, 0, 0, 0, 0, 1, 1, 2, 3, 2, 0, 4, 4, 4, 3, 1, 0, 3, 3, 4,\n",
       "       0, 0, 0, 2, 0, 0, 3, 2, 2, 1, 3, 0, 0, 0, 0, 1, 2, 4, 3, 0, 2, 4,\n",
       "       2, 0, 2, 0, 2, 0, 4, 1, 1, 2, 0, 0, 2, 3, 0, 2, 3, 0, 1, 0, 3, 3,\n",
       "       3])"
      ]
     },
     "execution_count": 62,
     "metadata": {},
     "output_type": "execute_result"
    }
   ],
   "source": [
    "knn = CustomKNNClassifier(k=6)\n",
    "knn.fit(X_train, y_train)\n",
    "\n",
    "y_pred = knn.predict(X_test)\n",
    "y_pred"
   ]
  },
  {
   "cell_type": "code",
   "execution_count": 52,
   "metadata": {},
   "outputs": [
    {
     "data": {
      "text/plain": [
       "array([3, 0, 4, ..., 3, 4, 1])"
      ]
     },
     "execution_count": 52,
     "metadata": {},
     "output_type": "execute_result"
    }
   ],
   "source": [
    "y_pred1 = knn.predict(X_train)\n",
    "y_pred1"
   ]
  },
  {
   "cell_type": "code",
   "execution_count": 63,
   "metadata": {},
   "outputs": [
    {
     "name": "stdout",
     "output_type": "stream",
     "text": [
      "0.49035187287173665\n",
      "[[126  39  51  13  53]\n",
      " [ 20  62  19   8  25]\n",
      " [ 15  11  85  14  30]\n",
      " [  6  16  26  95  34]\n",
      " [ 19  16  27   7  64]]\n"
     ]
    }
   ],
   "source": [
    "def accuracy(y_pred, y_true):\n",
    "    return np.mean(y_pred == y_true)\n",
    "\n",
    "\n",
    "def confusion_matrix(y_true, y_pred):\n",
    "    classes = np.unique(np.concatenate((y_true, y_pred)))\n",
    "    matrix = np.zeros((len(classes), len(classes)), dtype=int)\n",
    "    for i in range(len(y_true)):\n",
    "        matrix[y_true[i]][y_pred[i]] += 1\n",
    "    return matrix\n",
    "\n",
    "print(accuracy(y_pred, y_test))\n",
    "print(confusion_matrix(y_pred, y_test))"
   ]
  }
 ],
 "metadata": {
  "kernelspec": {
   "display_name": "Python 3",
   "language": "python",
   "name": "python3"
  },
  "language_info": {
   "codemirror_mode": {
    "name": "ipython",
    "version": 3
   },
   "file_extension": ".py",
   "mimetype": "text/x-python",
   "name": "python",
   "nbconvert_exporter": "python",
   "pygments_lexer": "ipython3",
   "version": "3.10.11"
  }
 },
 "nbformat": 4,
 "nbformat_minor": 2
}
